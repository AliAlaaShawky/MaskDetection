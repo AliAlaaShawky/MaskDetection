{
 "cells": [
  {
   "cell_type": "code",
   "execution_count": 3,
   "id": "ec95522e",
   "metadata": {},
   "outputs": [],
   "source": [
    "from keras.preprocessing.image import load_img\n",
    "from keras.preprocessing.image import img_to_array\n",
    "from keras.applications.vgg16 import preprocess_input\n",
    "from keras.applications.vgg16 import decode_predictions\n",
    "from keras.applications.vgg16 import VGG16\n",
    "from tensorflow.keras.preprocessing.image import ImageDataGenerator\n",
    "from tensorflow.keras.layers import AveragePooling2D\n",
    "from tensorflow.keras.layers import Dropout\n",
    "from tensorflow.keras.layers import Flatten\n",
    "from tensorflow.keras.layers import Dense\n",
    "from tensorflow.keras.layers import Input\n",
    "from tensorflow.keras.models import Model\n",
    "from tensorflow.keras.optimizers import Adam#\n",
    "from tensorflow.keras.utils import to_categorical\n",
    "from sklearn.preprocessing import LabelBinarizer\n",
    "from sklearn.model_selection import train_test_split\n",
    "from sklearn.metrics import classification_report\n",
    "from imutils import paths\n",
    "import matplotlib.pyplot as plt\n",
    "import numpy as np\n",
    "import os"
   ]
  },
  {
   "cell_type": "code",
   "execution_count": 2,
   "id": "84787dc6",
   "metadata": {},
   "outputs": [],
   "source": [
    "INIT_LR = 1e-4\n",
    "EPOCHS = 20\n",
    "BS = 32"
   ]
  },
  {
   "cell_type": "code",
   "execution_count": 3,
   "id": "023731ba",
   "metadata": {},
   "outputs": [],
   "source": [
    "DIRECTORY = r\"C:/Users/xps/Desktop/mask project/dataset\"\n",
    "CATEGORIES = [\"with_mask\", \"without_mask\"]"
   ]
  },
  {
   "cell_type": "code",
   "execution_count": 4,
   "id": "6f0350a7",
   "metadata": {},
   "outputs": [
    {
     "name": "stderr",
     "output_type": "stream",
     "text": [
      "C:\\Users\\xps\\anaconda3\\lib\\site-packages\\PIL\\Image.py:975: UserWarning: Palette images with Transparency expressed in bytes should be converted to RGBA images\n",
      "  warnings.warn(\n"
     ]
    }
   ],
   "source": [
    "data = []\n",
    "labels = []\n",
    "\n",
    "for category in CATEGORIES:\n",
    "    path = os.path.join(DIRECTORY, category)\n",
    "    for img in os.listdir(path):\n",
    "        img_path = os.path.join(path, img)\n",
    "        image = load_img(img_path, target_size=(224, 224))\n",
    "        image = img_to_array(image)\n",
    "        image = preprocess_input(image)\n",
    "\n",
    "        data.append(image)\n",
    "        labels.append(category)"
   ]
  },
  {
   "cell_type": "code",
   "execution_count": 5,
   "id": "ae6725f8",
   "metadata": {},
   "outputs": [],
   "source": [
    "lb = LabelBinarizer()\n",
    "labels = lb.fit_transform(labels)\n",
    "labels = to_categorical(labels)\n",
    "\n",
    "data = np.array(data, dtype=\"float32\")\n",
    "labels = np.array(labels)"
   ]
  },
  {
   "cell_type": "code",
   "execution_count": 7,
   "id": "622a7e69",
   "metadata": {},
   "outputs": [],
   "source": [
    "(trainX, testX, trainY, testY) = train_test_split(data, labels,\n",
    "\ttest_size=0.20, stratify=labels, random_state=42)"
   ]
  },
  {
   "cell_type": "code",
   "execution_count": 8,
   "id": "7cc03d10",
   "metadata": {},
   "outputs": [],
   "source": [
    "aug = ImageDataGenerator(\n",
    "    rotation_range=20,\n",
    "    zoom_range=0.15,\n",
    "    width_shift_range=0.2,\n",
    "    height_shift_range=0.2,\n",
    "    shear_range=0.15,\n",
    "    horizontal_flip=True,\n",
    "    fill_mode=\"nearest\")"
   ]
  },
  {
   "cell_type": "code",
   "execution_count": 9,
   "id": "8ae012cc",
   "metadata": {},
   "outputs": [
    {
     "name": "stdout",
     "output_type": "stream",
     "text": [
      "Downloading data from https://storage.googleapis.com/tensorflow/keras-applications/vgg16/vgg16_weights_tf_dim_ordering_tf_kernels_notop.h5\n",
      "58892288/58889256 [==============================] - 95s 2us/step\n",
      "58900480/58889256 [==============================] - 95s 2us/step\n"
     ]
    }
   ],
   "source": [
    "baseModel = VGG16(weights=\"imagenet\", include_top=False,\n",
    "    input_tensor=Input(shape=(224, 224, 3)))\n"
   ]
  },
  {
   "cell_type": "code",
   "execution_count": 10,
   "id": "5508b027",
   "metadata": {},
   "outputs": [],
   "source": [
    "headModel = baseModel.output\n",
    "headModel = AveragePooling2D(pool_size=(7, 7))(headModel)\n",
    "headModel = Flatten(name=\"flatten\")(headModel)\n",
    "headModel = Dense(128, activation=\"relu\")(headModel)\n",
    "headModel = Dropout(0.5)(headModel)\n",
    "headModel = Dense(2, activation=\"softmax\")(headModel)"
   ]
  },
  {
   "cell_type": "code",
   "execution_count": 11,
   "id": "e935417d",
   "metadata": {},
   "outputs": [],
   "source": [
    "model = Model(inputs=baseModel.input, outputs=headModel)\n"
   ]
  },
  {
   "cell_type": "code",
   "execution_count": 12,
   "id": "d4646f46",
   "metadata": {},
   "outputs": [],
   "source": [
    "for layer in baseModel.layers:\n",
    "    layer.trainable = False"
   ]
  },
  {
   "cell_type": "code",
   "execution_count": 13,
   "id": "792b4976",
   "metadata": {},
   "outputs": [
    {
     "name": "stdout",
     "output_type": "stream",
     "text": [
      "[INFO] compiling model...\n"
     ]
    },
    {
     "name": "stderr",
     "output_type": "stream",
     "text": [
      "C:\\Users\\xps\\anaconda3\\lib\\site-packages\\keras\\optimizer_v2\\adam.py:105: UserWarning: The `lr` argument is deprecated, use `learning_rate` instead.\n",
      "  super(Adam, self).__init__(name, **kwargs)\n"
     ]
    }
   ],
   "source": [
    "# compile model\n",
    "print(\"[INFO] compiling model...\")\n",
    "opt = Adam(lr=INIT_LR, decay=INIT_LR / EPOCHS)\n",
    "model.compile(loss=\"binary_crossentropy\", optimizer=opt,\n",
    "        metrics=[\"accuracy\"])"
   ]
  },
  {
   "cell_type": "code",
   "execution_count": 14,
   "id": "2920e4f3",
   "metadata": {},
   "outputs": [
    {
     "name": "stdout",
     "output_type": "stream",
     "text": [
      "[INFO] training head...\n",
      "Epoch 1/20\n",
      "95/95 [==============================] - 574s 6s/step - loss: 0.9108 - accuracy: 0.7610 - val_loss: 0.1539 - val_accuracy: 0.9596\n",
      "Epoch 2/20\n",
      "95/95 [==============================] - 554s 6s/step - loss: 0.3584 - accuracy: 0.9140 - val_loss: 0.0830 - val_accuracy: 0.9817\n",
      "Epoch 3/20\n",
      "95/95 [==============================] - 559s 6s/step - loss: 0.2216 - accuracy: 0.9433 - val_loss: 0.0556 - val_accuracy: 0.9870\n",
      "Epoch 4/20\n",
      "95/95 [==============================] - 538s 6s/step - loss: 0.1634 - accuracy: 0.9624 - val_loss: 0.0410 - val_accuracy: 0.9922\n",
      "Epoch 5/20\n",
      "95/95 [==============================] - 564s 6s/step - loss: 0.1475 - accuracy: 0.9628 - val_loss: 0.0344 - val_accuracy: 0.9935\n",
      "Epoch 6/20\n",
      "95/95 [==============================] - 527s 6s/step - loss: 0.1090 - accuracy: 0.9759 - val_loss: 0.0291 - val_accuracy: 0.9935\n",
      "Epoch 7/20\n",
      "95/95 [==============================] - 522s 5s/step - loss: 0.0883 - accuracy: 0.9759 - val_loss: 0.0257 - val_accuracy: 0.9935\n",
      "Epoch 8/20\n",
      "95/95 [==============================] - 522s 6s/step - loss: 0.0836 - accuracy: 0.9806 - val_loss: 0.0234 - val_accuracy: 0.9935\n",
      "Epoch 9/20\n",
      "95/95 [==============================] - 537s 6s/step - loss: 0.0735 - accuracy: 0.9796 - val_loss: 0.0194 - val_accuracy: 0.9948\n",
      "Epoch 10/20\n",
      "95/95 [==============================] - 597s 6s/step - loss: 0.0659 - accuracy: 0.9812 - val_loss: 0.0182 - val_accuracy: 0.9961\n",
      "Epoch 11/20\n",
      "95/95 [==============================] - 584s 6s/step - loss: 0.0631 - accuracy: 0.9842 - val_loss: 0.0168 - val_accuracy: 0.9948\n",
      "Epoch 12/20\n",
      "95/95 [==============================] - 531s 6s/step - loss: 0.0524 - accuracy: 0.9871 - val_loss: 0.0163 - val_accuracy: 0.9961\n",
      "Epoch 13/20\n",
      "95/95 [==============================] - 554s 6s/step - loss: 0.0465 - accuracy: 0.9875 - val_loss: 0.0153 - val_accuracy: 0.9974\n",
      "Epoch 14/20\n",
      "95/95 [==============================] - 561s 6s/step - loss: 0.0468 - accuracy: 0.9862 - val_loss: 0.0141 - val_accuracy: 0.9974\n",
      "Epoch 15/20\n",
      "95/95 [==============================] - 605s 6s/step - loss: 0.0528 - accuracy: 0.9865 - val_loss: 0.0138 - val_accuracy: 0.9961\n",
      "Epoch 16/20\n",
      "95/95 [==============================] - 603s 6s/step - loss: 0.0479 - accuracy: 0.9875 - val_loss: 0.0134 - val_accuracy: 0.9961\n",
      "Epoch 17/20\n",
      "95/95 [==============================] - 607s 6s/step - loss: 0.0417 - accuracy: 0.9904 - val_loss: 0.0123 - val_accuracy: 0.9961\n",
      "Epoch 18/20\n",
      "95/95 [==============================] - 590s 6s/step - loss: 0.0378 - accuracy: 0.9914 - val_loss: 0.0122 - val_accuracy: 0.9961\n",
      "Epoch 19/20\n",
      "95/95 [==============================] - 614s 6s/step - loss: 0.0308 - accuracy: 0.9937 - val_loss: 0.0118 - val_accuracy: 0.9961\n",
      "Epoch 20/20\n",
      "95/95 [==============================] - 567s 6s/step - loss: 0.0384 - accuracy: 0.9878 - val_loss: 0.0113 - val_accuracy: 0.9961\n"
     ]
    }
   ],
   "source": [
    "# train the head of the network\n",
    "print(\"[INFO] training head...\")\n",
    "H = model.fit(\n",
    "        aug.flow(trainX, trainY, batch_size=BS),\n",
    "        steps_per_epoch=len(trainX) // BS,\n",
    "        validation_data=(testX, testY),\n",
    "        validation_steps=len(testX) // BS,\n",
    "            epochs=EPOCHS)\n"
   ]
  },
  {
   "cell_type": "code",
   "execution_count": 20,
   "id": "e4ec0cff",
   "metadata": {},
   "outputs": [],
   "source": [
    "predIdxs = model.predict(testX, batch_size=BS)"
   ]
  },
  {
   "cell_type": "code",
   "execution_count": 16,
   "id": "da3a32de",
   "metadata": {},
   "outputs": [],
   "source": [
    "predIdxs = np.argmax(predIdxs, axis=1)\n"
   ]
  },
  {
   "cell_type": "code",
   "execution_count": 17,
   "id": "1ad01404",
   "metadata": {},
   "outputs": [
    {
     "name": "stdout",
     "output_type": "stream",
     "text": [
      "              precision    recall  f1-score   support\n",
      "\n",
      "   with_mask       0.99      1.00      1.00       383\n",
      "without_mask       1.00      0.99      1.00       384\n",
      "\n",
      "    accuracy                           1.00       767\n",
      "   macro avg       1.00      1.00      1.00       767\n",
      "weighted avg       1.00      1.00      1.00       767\n",
      "\n"
     ]
    }
   ],
   "source": [
    "print(classification_report(testY.argmax(axis=1), predIdxs,\n",
    "    target_names=lb.classes_))"
   ]
  },
  {
   "cell_type": "code",
   "execution_count": 18,
   "id": "7edcb03c",
   "metadata": {},
   "outputs": [
    {
     "name": "stdout",
     "output_type": "stream",
     "text": [
      "[INFO] saving mask detector model...\n"
     ]
    }
   ],
   "source": [
    "print(\"[INFO] saving mask detector model...\")\n",
    "model.save(\"vgg.model\", save_format=\"h5\")"
   ]
  },
  {
   "cell_type": "code",
   "execution_count": 19,
   "id": "3d943988",
   "metadata": {
    "scrolled": true
   },
   "outputs": [
    {
     "data": {
      "image/png": "[encoded data removed]",
      "text/plain": [
       "<Figure size 432x288 with 1 Axes>"
      ]
     },
     "metadata": {},
     "output_type": "display_data"
    }
   ],
   "source": [
    "N = EPOCHS\n",
    "plt.style.use(\"ggplot\")\n",
    "plt.figure()\n",
    "plt.plot(np.arange(0, N), H.history[\"loss\"], label=\"train_loss\")\n",
    "plt.plot(np.arange(0, N), H.history[\"val_loss\"], label=\"val_loss\")\n",
    "plt.plot(np.arange(0, N), H.history[\"accuracy\"], label=\"train_acc\")\n",
    "plt.plot(np.arange(0, N), H.history[\"val_accuracy\"], label=\"val_acc\")\n",
    "plt.title(\"Training Loss and Accuracy\")\n",
    "plt.xlabel(\"Epoch #\")\n",
    "plt.ylabel(\"Loss/Accuracy\")\n",
    "plt.legend(loc=\"lower left\")\n",
    "plt.savefig(\"plot.png\")"
   ]
  },
  {
   "cell_type": "code",
   "execution_count": 4,
   "id": "b8360668",
   "metadata": {},
   "outputs": [
    {
     "name": "stdout",
     "output_type": "stream",
     "text": [
      "status: Mask: 100.00%\n",
      "status: Mask: 100.00%\n",
      "status: Mask: 100.00%\n",
      "status: Mask: 100.00%\n",
      "status: Mask: 100.00%\n",
      "status: Mask: 100.00%\n",
      "status: Mask: 100.00%\n",
      "status: Mask: 100.00%\n",
      "status: Mask: 100.00%\n",
      "status: Mask: 100.00%\n",
      "status: Mask: 100.00%\n",
      "status: Mask: 100.00%\n",
      "status: Mask: 100.00%\n",
      "status: Mask: 100.00%\n",
      "status: Mask: 100.00%\n",
      "status: Mask: 100.00%\n",
      "status: Mask: 100.00%\n",
      "status: Mask: 100.00%\n",
      "status: Mask: 100.00%\n",
      "status: Mask: 100.00%\n",
      "status: Mask: 100.00%\n",
      "status: Mask: 100.00%\n",
      "status: Mask: 100.00%\n",
      "status: Mask: 100.00%\n",
      "status: Mask: 100.00%\n",
      "status: Mask: 100.00%\n",
      "status: Mask: 100.00%\n",
      "status: Mask: 100.00%\n",
      "status: Mask: 100.00%\n",
      "status: Mask: 100.00%\n",
      "status: Mask: 100.00%\n",
      "status: Mask: 100.00%\n",
      "status: Mask: 100.00%\n",
      "status: No Mask: 100.00%\n",
      "status: No Mask: 100.00%\n",
      "status: No Mask: 100.00%\n",
      "status: No Mask: 100.00%\n",
      "status: No Mask: 100.00%\n",
      "status: No Mask: 100.00%\n",
      "status: No Mask: 100.00%\n",
      "status: No Mask: 100.00%\n",
      "status: No Mask: 100.00%\n",
      "status: No Mask: 100.00%\n",
      "status: No Mask: 100.00%\n",
      "status: No Mask: 100.00%\n",
      "status: No Mask: 73.51%\n",
      "status: No Mask: 100.00%\n",
      "status: No Mask: 100.00%\n",
      "status: No Mask: 100.00%\n",
      "status: No Mask: 100.00%\n",
      "status: No Mask: 100.00%\n",
      "status: No Mask: 100.00%\n",
      "status: No Mask: 100.00%\n",
      "status: No Mask: 100.00%\n",
      "status: No Mask: 100.00%\n",
      "status: No Mask: 100.00%\n",
      "status: No Mask: 100.00%\n",
      "status: No Mask: 100.00%\n",
      "status: No Mask: 100.00%\n",
      "status: No Mask: 100.00%\n",
      "status: No Mask: 100.00%\n",
      "status: No Mask: 100.00%\n",
      "status: No Mask: 100.00%\n"
     ]
    }
   ],
   "source": [
    "from keras.preprocessing import image\n",
    "import numpy as np\n",
    "from keras.models import load_model\n",
    "def prepare_image(file):\n",
    "    img = image.load_img( file, target_size=(224,224))\n",
    "    img_array = image.img_to_array(img)\n",
    "    img_array_expanded_dims = np.expand_dims(img_array,axis=0)\n",
    "    return preprocess_input(img_array_expanded_dims)\n",
    "validpath=r'C:/Users/xps/Desktop/mask project/valid'\n",
    "import cv2\n",
    "import glob as gb\n",
    "mobile=load_model(\"vgg.model\")\n",
    "class_labels=['Mask' ,'Without Mask']\n",
    "files=gb.glob(pathname=str(validpath+'/*.jpg'))\n",
    "for file in files :\n",
    "    preprocessed_image = prepare_image(file)\n",
    "    predictions = mobile.predict(preprocessed_image)\n",
    "    for pred in predictions:\n",
    "        (mask, withoutMask) = pred\n",
    "        label = \"Mask\" if mask > withoutMask else \"No Mask\"\n",
    "    label = \"{}: {:.2f}%\".format(label, max(mask, withoutMask) * 100)\n",
    "    print('status:',label)\n",
    "    "
   ]
  },
  {
   "cell_type": "code",
   "execution_count": 7,
   "id": "fcd5d11a",
   "metadata": {},
   "outputs": [
    {
     "name": "stdout",
     "output_type": "stream",
     "text": [
      "dangerous\n"
     ]
    },
    {
     "ename": "IndentationError",
     "evalue": "unindent does not match any outer indentation level (<tokenize>, line 61)",
     "output_type": "error",
     "traceback": [
      "\u001b[1;36m  File \u001b[1;32m\"<tokenize>\"\u001b[1;36m, line \u001b[1;32m61\u001b[0m\n\u001b[1;33m    faces.append(face)\u001b[0m\n\u001b[1;37m    ^\u001b[0m\n\u001b[1;31mIndentationError\u001b[0m\u001b[1;31m:\u001b[0m unindent does not match any outer indentation level\n"
     ]
    }
   ],
   "source": [
    "from flask import Flask,render_template,Response,request\n",
    "from keras.preprocessing import image\n",
    "from keras.applications.vgg16 import preprocess_input\n",
    "from keras.applications.vgg16 import decode_predictions\n",
    "from keras.applications.vgg16 import VGG16\n",
    "from keras.preprocessing.image import img_to_array\n",
    "from keras.models import load_model\n",
    "import imutils\n",
    "import cv2\n",
    "import numpy as np\n",
    "%tb\n",
    "import imutils\n",
    "app = Flask(__name__)\n",
    "def detect_and_predict_mask(frame, faceNet, maskNet):\n",
    "\t# grab the dimensions of the frame and then construct a blob\n",
    "\t# from it\n",
    "\t(h, w) = frame.shape[:2]\n",
    "\tblob = cv2.dnn.blobFromImage(frame, 1.0, (224, 224),\n",
    "\t\t(104.0, 177.0, 123.0))\n",
    "\n",
    "\t# pass the blob through the network and obtain the face detections\n",
    "\tfaceNet.setInput(blob)\n",
    "\tdetections = faceNet.forward()\n",
    "\t#print(detections.shape)\n",
    "\n",
    "\t# initialize our list of faces, their corresponding locations,\n",
    "\t# and the list of predictions from our face mask network\n",
    "\tfaces = []\n",
    "\tlocs = []\n",
    "\tpreds = []\n",
    "\n",
    "\t# loop over the detections\n",
    "\tfor i in range(0, detections.shape[2]):\n",
    "\t\t# extract the confidence (i.e., probability) associated with\n",
    "\t\t# the detection\n",
    "\t\tconfidence = detections[0, 0, i, 2]\n",
    "\n",
    "\t\t# filter out weak detections by ensuring the confidence is\n",
    "\t\t# greater than the minimum confidence\n",
    "\t\tif confidence > 0.5:\n",
    "\t\t\t# compute the (x, y)-coordinates of the bounding box for\n",
    "\t\t\t# the object\n",
    "\t\t\tbox = detections[0, 0, i, 3:7] * np.array([w, h, w, h])\n",
    "\t\t\t(startX, startY, endX, endY) = box.astype(\"int\")\n",
    "\n",
    "\t\t\t# ensure the bounding boxes fall within the dimensions of\n",
    "\t\t\t# the frame\n",
    "\t\t\t(startX, startY) = (max(0, startX), max(0, startY))\n",
    "\t\t\t(endX, endY) = (min(w - 1, endX), min(h - 1, endY))\n",
    "\n",
    "\t\t\t# extract the face ROI, convert it from BGR to RGB channel\n",
    "\t\t\t# ordering, resize it to 224x224, and preprocess it\n",
    "\t\t\tface = frame[startY:endY, startX:endX]\n",
    "\t\t\tface = cv2.cvtColor(face, cv2.COLOR_BGR2RGB)\n",
    "\t\t\tface = cv2.resize(face, (224, 224))\n",
    "\t\t\tface = img_to_array(face)\n",
    "\t\t\tface = preprocess_input(face)\n",
    "\n",
    "\t\t\t# add the face and bounding boxes to their respective\n",
    "\t\t\t# lists\n",
    "\t\t\tfaces.append(face)\n",
    "\t\t\tlocs.append((startX, startY, endX, endY))\n",
    "\n",
    "\t# only make a predictions if at least one face was detected\n",
    "\tif len(faces) > 0:\n",
    "\t\t# for faster inference we'll make batch predictions on *all*\n",
    "\t\t# faces at the same time rather than one-by-one predictions\n",
    "\t\t# in the above `for` loop\n",
    "\t\tfaces = np.array(faces, dtype=\"float32\")\n",
    "\t\tpreds = maskNet.predict(faces, batch_size=32)\n",
    "\n",
    "\t# return a 2-tuple of the face locations and their corresponding\n",
    "\t# locations\n",
    "\treturn (locs, preds)\n",
    "\n",
    "# load our serialized face detector model from disk\n",
    "prototxtPath = r\"C:/Users/xps/Desktop/mask project/face_detector/deploy.prototxt\"\n",
    "weightsPath = r\"C:/Users/xps/Desktop/mask project/face_detector/res10_300x300_ssd_iter_140000.caffemodel\"\n",
    "faceNet = cv2.dnn.readNet(prototxtPath, weightsPath)\n",
    "path=\"C:/Users/xps/Desktop/mask project/vgg.model\"\n",
    "# load the face mask detector model from disk\n",
    "maskNet = load_model(\"vgg.model\")\n",
    "def mask():\n",
    "    print(\"[INFO] starting video stream...\")\n",
    "    #vs = VideoStream(src=0).start()\n",
    "    camera=cv2.VideoCapture(0)\n",
    "    # loop over the frames from the video stream\n",
    "    while True:\n",
    "    # grab the frame from the threaded video stream and resize it\n",
    "    # to have a maximum width of 400 pixels\n",
    "   \n",
    "        success,frame = camera.read()\n",
    "        if not success:\n",
    "            break\n",
    "        else:\n",
    "            frame = imutils.resize(frame, width=800)\n",
    "\n",
    "            # detect faces in the frame and determine if they are wearing a\n",
    "            # face mask or not\n",
    "            (locs, preds) = detect_and_predict_mask(frame, faceNet, maskNet)\n",
    "\n",
    "            # loop over the detected face locations and their corresponding\n",
    "            # locations\n",
    "            for (box, pred) in zip(locs, preds):\n",
    "                # unpack the bounding box and predictions\n",
    "                (startX, startY, endX, endY) = box\n",
    "                (mask, withoutMask) = pred\n",
    "\n",
    "                # determine the class label and color we'll use to draw\n",
    "                # the bounding box and text\n",
    "                label = \"Mask\" if mask > withoutMask else \"No Mask\"\n",
    "                color = (0, 255, 0) if label == \"Mask\" else (0, 0, 255)\n",
    "                if label== \"No Mask\":\n",
    "                    print(\"dangerous\")\n",
    "                    gray=cv2.cvtColor(frame,cv2.COLOR_BGR2GRAY)\n",
    "                # include the probability in the label\n",
    "                label = \"{}: {:.2f}%\".format(label, max(mask, withoutMask) * 100)\n",
    "\n",
    "                # display the label and bounding box rectangle on the output\n",
    "                # frame\n",
    "                cv2.putText(frame, label, (startX, startY - 10),\n",
    "                    cv2.FONT_HERSHEY_SIMPLEX, 0.45, color, 2)\n",
    "                cv2.rectangle(frame, (startX, startY), (endX, endY), color, 2)\n",
    "            ret, buffer = cv2.imencode('.jpg', frame)\n",
    "            frame = buffer.tobytes()\n",
    "            yield (b'--frame\\r\\n'\n",
    "                    b'Content-Type: image/jpeg\\r\\n\\r\\n' + frame + b'\\r\\n')\n",
    "\n",
    "@app.route('/', methods=['POST', \"get\"])\n",
    "def reaction():\n",
    "        return render_template('react.html')\n",
    "@app.route('/react_vedio', methods=['POST', \"get\"])\n",
    "def react_vedio():\n",
    "        return Response(mask(),\n",
    "                    mimetype=\"multipart/x-mixed-replace; boundary=frame\")  \n",
    "if __name__ == '__main__':\n",
    "    app.run()\n"
   ]
  },
  {
   "cell_type": "code",
   "execution_count": 16,
   "id": "e71efd33",
   "metadata": {},
   "outputs": [
    {
     "name": "stdout",
     "output_type": "stream",
     "text": [
      "finish\n"
     ]
    }
   ],
   "source": [
    "print(\"finish\")"
   ]
  },
  {
   "cell_type": "code",
   "execution_count": null,
   "id": "761b1430",
   "metadata": {},
   "outputs": [],
   "source": []
  }
 ],
 "metadata": {
  "kernelspec": {
   "display_name": "Python 3 (ipykernel)",
   "language": "python",
   "name": "python3"
  },
  "language_info": {
   "codemirror_mode": {
    "name": "ipython",
    "version": 3
   },
   "file_extension": ".py",
   "mimetype": "text/x-python",
   "name": "python",
   "nbconvert_exporter": "python",
   "pygments_lexer": "ipython3",
   "version": "3.9.7"
  }
 },
 "nbformat": 4,
 "nbformat_minor": 5
}
